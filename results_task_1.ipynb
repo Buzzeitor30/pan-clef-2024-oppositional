{
 "cells": [
  {
   "cell_type": "code",
   "execution_count": 1,
   "metadata": {},
   "outputs": [
    {
     "name": "stderr",
     "output_type": "stream",
     "text": [
      "/home/elural/miniconda3/envs/pan-clef-2024/lib/python3.12/site-packages/tqdm/auto.py:21: TqdmWarning: IProgress not found. Please update jupyter and ipywidgets. See https://ipywidgets.readthedocs.io/en/stable/user_install.html\n",
      "  from .autonotebook import tqdm as notebook_tqdm\n"
     ]
    }
   ],
   "source": [
    "import sys\n",
    "sys.path.append('classif_experim')\n",
    "import pandas as pd\n",
    "import numpy as np\n",
    "from classif_experim.hf_skelarn_wrapper import SklearnTransformerClassif\n",
    "from settings import TEST_DATASET_EN, TEST_DATASET_ES\n",
    "import torch"
   ]
  },
  {
   "cell_type": "code",
   "execution_count": 2,
   "metadata": {},
   "outputs": [],
   "source": [
    "def make_predictions_task_4(lan):\n",
    "    df_path = TEST_DATASET_EN if lan == \"en\" else TEST_DATASET_ES\n",
    "\n",
    "    test_df = pd.read_json(df_path, orient=\"records\")\n",
    "    ids = test_df[\"id\"].values\n",
    "\n",
    "    preds_array = np.array([])\n",
    "    for fold_id in range(5):\n",
    "        model = SklearnTransformerClassif.load(f\"TASK4_BEST_MODEL_{lan}_FOLD_{fold_id}\", \"cuda\")\n",
    "        preds = model.predict(test_df[\"text\"].values, [])\n",
    "        preds = preds.reshape(1000, 1)\n",
    "        preds_array = np.hstack((preds_array, preds)) if preds_array.size else preds\n",
    "        del model\n",
    "        torch.cuda.empty_cache()\n",
    "    \n",
    "    voting = (np.sum(preds_array, axis=1) > 3).astype(float)\n",
    "    return pd.DataFrame(\n",
    "        {\n",
    "            \"id\": ids,\n",
    "            \"category\": voting\n",
    "        }\n",
    "    )"
   ]
  },
  {
   "cell_type": "code",
   "execution_count": 3,
   "metadata": {},
   "outputs": [],
   "source": [
    "df = make_predictions_task_4(\"en\")\n",
    "df.to_csv(\"task4_en_elias&sergio.csv\", index=False)"
   ]
  },
  {
   "cell_type": "code",
   "execution_count": 4,
   "metadata": {},
   "outputs": [],
   "source": [
    "df = make_predictions_task_4(\"es\")\n",
    "df.to_csv(\"task4_es_elias&sergio.csv\", index=False)"
   ]
  }
 ],
 "metadata": {
  "kernelspec": {
   "display_name": "pan-clef-2024",
   "language": "python",
   "name": "python3"
  },
  "language_info": {
   "codemirror_mode": {
    "name": "ipython",
    "version": 3
   },
   "file_extension": ".py",
   "mimetype": "text/x-python",
   "name": "python",
   "nbconvert_exporter": "python",
   "pygments_lexer": "ipython3",
   "version": "3.12.3"
  }
 },
 "nbformat": 4,
 "nbformat_minor": 2
}
