{
 "cells": [
  {
   "cell_type": "code",
   "execution_count": 43,
   "metadata": {},
   "outputs": [
    {
     "data": {
      "text/html": [
       "<div>\n",
       "<style scoped>\n",
       "    .dataframe tbody tr th:only-of-type {\n",
       "        vertical-align: middle;\n",
       "    }\n",
       "\n",
       "    .dataframe tbody tr th {\n",
       "        vertical-align: top;\n",
       "    }\n",
       "\n",
       "    .dataframe thead th {\n",
       "        text-align: right;\n",
       "    }\n",
       "</style>\n",
       "<table border=\"1\" class=\"dataframe\">\n",
       "  <thead>\n",
       "    <tr style=\"text-align: right;\">\n",
       "      <th></th>\n",
       "      <th>id</th>\n",
       "      <th>text</th>\n",
       "      <th>category</th>\n",
       "      <th>annotations</th>\n",
       "      <th>spacy_tokens</th>\n",
       "    </tr>\n",
       "  </thead>\n",
       "  <tbody>\n",
       "    <tr>\n",
       "      <th>0</th>\n",
       "      <td>5206</td>\n",
       "      <td>THIS IS MASSIVE Australian Senator Malcolm Rob...</td>\n",
       "      <td>CONSPIRACY</td>\n",
       "      <td>[{'span_text': 'Australian Senator Malcolm Rob...</td>\n",
       "      <td>WyJUSElTIiwgIklTIiwgIk1BU1NJVkUiLCAiQXVzdHJhbG...</td>\n",
       "    </tr>\n",
       "    <tr>\n",
       "      <th>1</th>\n",
       "      <td>1387</td>\n",
       "      <td>“ I ’m deeply concerned that the push to vacci...</td>\n",
       "      <td>CRITICAL</td>\n",
       "      <td>[{'span_text': 'I ’m deeply concerned that the...</td>\n",
       "      <td>WyJcdTIwMWMiLCAiSSIsICJcdTIwMTltIiwgImRlZXBseS...</td>\n",
       "    </tr>\n",
       "    <tr>\n",
       "      <th>2</th>\n",
       "      <td>13116</td>\n",
       "      <td>2021 : They wanted to know your vaccination st...</td>\n",
       "      <td>CRITICAL</td>\n",
       "      <td>[{'span_text': 'someone who died suddenly', 'c...</td>\n",
       "      <td>WyIyMDIxIiwgIjoiLCAiVGhleSIsICJ3YW50ZWQiLCAidG...</td>\n",
       "    </tr>\n",
       "    <tr>\n",
       "      <th>3</th>\n",
       "      <td>11439</td>\n",
       "      <td>Anthony Fauci once again defended brutal Chine...</td>\n",
       "      <td>CRITICAL</td>\n",
       "      <td>[{'span_text': 'brutal Chinese lockdowns', 'ca...</td>\n",
       "      <td>WyJBbnRob255IiwgIkZhdWNpIiwgIm9uY2UiLCAiYWdhaW...</td>\n",
       "    </tr>\n",
       "    <tr>\n",
       "      <th>4</th>\n",
       "      <td>98</td>\n",
       "      <td>Proof has emerged showing that death from Wuha...</td>\n",
       "      <td>CRITICAL</td>\n",
       "      <td>[{'span_text': 'death from Wuhan coronavirus (...</td>\n",
       "      <td>WyJQcm9vZiIsICJoYXMiLCAiZW1lcmdlZCIsICJzaG93aW...</td>\n",
       "    </tr>\n",
       "  </tbody>\n",
       "</table>\n",
       "</div>"
      ],
      "text/plain": [
       "      id                                               text    category  \\\n",
       "0   5206  THIS IS MASSIVE Australian Senator Malcolm Rob...  CONSPIRACY   \n",
       "1   1387  “ I ’m deeply concerned that the push to vacci...    CRITICAL   \n",
       "2  13116  2021 : They wanted to know your vaccination st...    CRITICAL   \n",
       "3  11439  Anthony Fauci once again defended brutal Chine...    CRITICAL   \n",
       "4     98  Proof has emerged showing that death from Wuha...    CRITICAL   \n",
       "\n",
       "                                         annotations  \\\n",
       "0  [{'span_text': 'Australian Senator Malcolm Rob...   \n",
       "1  [{'span_text': 'I ’m deeply concerned that the...   \n",
       "2  [{'span_text': 'someone who died suddenly', 'c...   \n",
       "3  [{'span_text': 'brutal Chinese lockdowns', 'ca...   \n",
       "4  [{'span_text': 'death from Wuhan coronavirus (...   \n",
       "\n",
       "                                        spacy_tokens  \n",
       "0  WyJUSElTIiwgIklTIiwgIk1BU1NJVkUiLCAiQXVzdHJhbG...  \n",
       "1  WyJcdTIwMWMiLCAiSSIsICJcdTIwMTltIiwgImRlZXBseS...  \n",
       "2  WyIyMDIxIiwgIjoiLCAiVGhleSIsICJ3YW50ZWQiLCAidG...  \n",
       "3  WyJBbnRob255IiwgIkZhdWNpIiwgIm9uY2UiLCAiYWdhaW...  \n",
       "4  WyJQcm9vZiIsICJoYXMiLCAiZW1lcmdlZCIsICJzaG93aW...  "
      ]
     },
     "execution_count": 43,
     "metadata": {},
     "output_type": "execute_result"
    }
   ],
   "source": [
    "import pandas as pd \n",
    "import numpy as np\n",
    "import spacy\n",
    "from scipy.special import softmax\n",
    "from spacy.lang.es.stop_words import STOP_WORDS\n",
    "\n",
    "spanish_lexicon_path = \"NRC-Emotion-Lexicon/OneFilePerLanguage/Spanish-NRC-EmoLex.txt\"\n",
    "spanish_dataset_path = \"dataset_oppositional/dataset_es_train.json\"\n",
    "english_dataset_path = \"dataset_oppositional/dataset_en_train.json\"\n",
    "\n",
    "spanish_lexicon_df = pd.read_csv(spanish_lexicon_path, sep=\"\\t\")\n",
    "spanish_dataset_df = pd.read_json(spanish_dataset_path)\n",
    "english_dataset_df = pd.read_json(english_dataset_path)\n",
    "english_dataset_df.head()\n"
   ]
  },
  {
   "cell_type": "code",
   "execution_count": 44,
   "metadata": {},
   "outputs": [],
   "source": [
    "def create_emotion_vector(tokens: list, lexicon: pd.DataFrame=spanish_lexicon_df):\n",
    "    rows = lexicon[lexicon[\"English Word\"].isin(tokens)][[\"anger\", \"fear\", \"joy\", \"sadness\"]]\n",
    "    res = np.sum(rows.values, axis=0)\n",
    "    return softmax(res)\n",
    "    if np.sum(res) == 0:\n",
    "        return res\n",
    "    return res / np.sum(res)\n",
    "\n",
    "def tokenize_text(text: str, nlp):\n",
    "    doc = nlp(text)\n",
    "    # Tokenizar el texto, eliminando números, signos de puntuación, menciones y stopwords\n",
    "    token_list = [token.lemma_.lower() for token in doc \n",
    "                  if not token.is_punct \n",
    "                  and not token.is_digit \n",
    "                  and not token.text.startswith('@')\n",
    "                  and token.text.lower() not in STOP_WORDS\n",
    "]\n",
    "    \n",
    "    return token_list\n",
    "\n",
    "\n",
    "nlp=spacy.load('en_core_web_sm')\n",
    "\n",
    "text_tokenized = english_dataset_df[\"text\"].apply(lambda x: tokenize_text(x, nlp))\n",
    "emotion_vectors = text_tokenized.apply(create_emotion_vector)"
   ]
  },
  {
   "cell_type": "code",
   "execution_count": 45,
   "metadata": {},
   "outputs": [],
   "source": [
    "english_dataset_df[\"emotions\"] = emotion_vectors\n",
    "\n",
    "english_dataset_df.to_json(\"dataset_oppositional/dataset_en_train_emolex_3.json\", orient=\"records\")"
   ]
  },
  {
   "cell_type": "code",
   "execution_count": 62,
   "metadata": {},
   "outputs": [
    {
     "name": "stderr",
     "output_type": "stream",
     "text": [
      "/home/elural/miniconda3/envs/pan-clef-2024/lib/python3.12/site-packages/huggingface_hub/file_download.py:1132: FutureWarning: `resume_download` is deprecated and will be removed in version 1.0.0. Downloads always resume when possible. If you want to force a new download, use `force_download=True`.\n",
      "  warnings.warn(\n"
     ]
    },
    {
     "name": "stdout",
     "output_type": "stream",
     "text": [
      "[{'label': 'neutral', 'score': 0.9479948282241821}, {'label': 'approval', 'score': 0.034526925534009933}, {'label': 'realization', 'score': 0.012649599462747574}, {'label': 'annoyance', 'score': 0.005309795029461384}, {'label': 'optimism', 'score': 0.005123916082084179}, {'label': 'disappointment', 'score': 0.002947468077763915}, {'label': 'sadness', 'score': 0.0029114806093275547}, {'label': 'disapproval', 'score': 0.0028327126055955887}, {'label': 'excitement', 'score': 0.0028063568752259016}, {'label': 'desire', 'score': 0.0027442832943052053}, {'label': 'fear', 'score': 0.002469258150085807}, {'label': 'joy', 'score': 0.0018979558954015374}, {'label': 'admiration', 'score': 0.0017544840229675174}, {'label': 'disgust', 'score': 0.0016264236764982343}, {'label': 'amusement', 'score': 0.0015824248548597097}, {'label': 'confusion', 'score': 0.0015744833508506417}, {'label': 'anger', 'score': 0.001533654984086752}, {'label': 'caring', 'score': 0.001272394903935492}, {'label': 'love', 'score': 0.0011441794922575355}, {'label': 'curiosity', 'score': 0.0010355598060414195}, {'label': 'surprise', 'score': 0.0009946811478585005}, {'label': 'gratitude', 'score': 0.0007089852588251233}, {'label': 'nervousness', 'score': 0.0005744778900407255}, {'label': 'embarrassment', 'score': 0.0005266399239189923}, {'label': 'relief', 'score': 0.0005261344485916197}, {'label': 'grief', 'score': 0.0004834350838791579}, {'label': 'pride', 'score': 0.0004572697216644883}, {'label': 'remorse', 'score': 0.0003813071525655687}]\n"
     ]
    }
   ],
   "source": [
    "from transformers import pipeline\n",
    "from transformers import AutoModelForSequenceClassification, AutoTokenizer\n",
    "\n",
    "\n",
    "model = AutoModelForSequenceClassification.from_pretrained(\"SamLowe/roberta-base-go_emotions\")\n",
    "tokenizer = AutoTokenizer.from_pretrained(\"SamLowe/roberta-base-go_emotions\")\n",
    "classifier = pipeline(task=\"text-classification\", model=model, top_k=None, tokenizer=tokenizer)\n",
    "sentences = [\"https :// t . me / rtnews / 17878   Kazakhstan ’s President Tokayev announces he is taking over as chairman of the Security Council Tokayev said that he will not leave the country under any circumstances in his address to the nation Wednesday . The Kazakh leader also told citizens : a new package of proposals will be released in the near future authorities intend to act as harshly as possible against offenders during the protests law enforcement officers have been killed during the confrontations THIS IS ALL A [ DS ] ARKITE / SINTI CABAL BELGAE BLACK - OP TO STOP ROGUE KAZAKHSTAN FROM TAKING OVER CRYPTOCURRENCY MINING FROM [ DS ] MONGOL CCP CHINA https :// t . me / sineinjuria / 53018 # DeepStateInFullOvertPanic \"]\n",
    "\n",
    "model_outputs = classifier(sentences)\n",
    "print(model_outputs[0])\n",
    "# produces a list of dicts for each of the labels\n"
   ]
  },
  {
   "cell_type": "code",
   "execution_count": 65,
   "metadata": {},
   "outputs": [
    {
     "data": {
      "text/plain": [
       "{'admiration': 0,\n",
       " 'amusement': 1,\n",
       " 'anger': 2,\n",
       " 'annoyance': 3,\n",
       " 'approval': 4,\n",
       " 'caring': 5,\n",
       " 'confusion': 6,\n",
       " 'curiosity': 7,\n",
       " 'desire': 8,\n",
       " 'disappointment': 9,\n",
       " 'disapproval': 10,\n",
       " 'disgust': 11,\n",
       " 'embarrassment': 12,\n",
       " 'excitement': 13,\n",
       " 'fear': 14,\n",
       " 'gratitude': 15,\n",
       " 'grief': 16,\n",
       " 'joy': 17,\n",
       " 'love': 18,\n",
       " 'nervousness': 19,\n",
       " 'neutral': 27,\n",
       " 'optimism': 20,\n",
       " 'pride': 21,\n",
       " 'realization': 22,\n",
       " 'relief': 23,\n",
       " 'remorse': 24,\n",
       " 'sadness': 25,\n",
       " 'surprise': 26}"
      ]
     },
     "execution_count": 65,
     "metadata": {},
     "output_type": "execute_result"
    }
   ],
   "source": [
    "model.config.label2id"
   ]
  },
  {
   "cell_type": "code",
   "execution_count": null,
   "metadata": {},
   "outputs": [],
   "source": []
  }
 ],
 "metadata": {
  "kernelspec": {
   "display_name": "pan-clef-2024",
   "language": "python",
   "name": "python3"
  },
  "language_info": {
   "codemirror_mode": {
    "name": "ipython",
    "version": 3
   },
   "file_extension": ".py",
   "mimetype": "text/x-python",
   "name": "python",
   "nbconvert_exporter": "python",
   "pygments_lexer": "ipython3",
   "version": "3.12.3"
  }
 },
 "nbformat": 4,
 "nbformat_minor": 2
}
