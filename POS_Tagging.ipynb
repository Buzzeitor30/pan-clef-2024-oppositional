{
 "cells": [
  {
   "cell_type": "code",
   "execution_count": 3,
   "metadata": {},
   "outputs": [],
   "source": [
    "import spacy\n",
    "import pandas as pd\n",
    "from tqdm.auto import tqdm\n",
    "tqdm.pandas()\n",
    "nlp = spacy.load(\"es_core_news_sm\")\n",
    "df = pd.read_json(\"dataset_es_train.json\", orient=\"records\")"
   ]
  },
  {
   "cell_type": "code",
   "execution_count": 11,
   "metadata": {},
   "outputs": [
    {
     "data": {
      "text/plain": [
       "'Fallo en Matrix 08/02/2022 Hoy el señor Joan Ramón Laporte Roselló , catedrático experto en farmacovigilancia , ha comparecido en el Congreso de los Diputados . Fue invitado por el Gobierno de España ( PSOE y Podemos ) a formar parte de la Comisión de Investigación de las Vacunas . Pues bien , evidentemente no se esperaban lo que en señor catedrático iba a decir ...   Ante el asombro y la estupefacción de los allí presentes , Joan Ramón Laporte ha advertido del peligro y de la ineficacia del experimento que se ha inoculado la mayoría de la población española . Y además ha recalcado que , según el diccionario de la Real Academia de la Lengua española , estamos ante un \" experimento \" , no ante una vacuna . '"
      ]
     },
     "execution_count": 11,
     "metadata": {},
     "output_type": "execute_result"
    }
   ],
   "source": [
    "sample = df.loc[0]\n",
    "sample_text = sample[\"text\"]\n",
    "sample_text"
   ]
  },
  {
   "cell_type": "code",
   "execution_count": 15,
   "metadata": {},
   "outputs": [
    {
     "name": "stderr",
     "output_type": "stream",
     "text": [
      "  0%|          | 0/4000 [00:00<?, ?it/s]"
     ]
    },
    {
     "name": "stderr",
     "output_type": "stream",
     "text": [
      "100%|██████████| 4000/4000 [01:40<00:00, 39.72it/s]\n"
     ]
    }
   ],
   "source": [
    "pos = [(tkn.pos_, tkn.text) for tkn in nlp(sample_text)]\n",
    "\n",
    "\n",
    "def add_pos_tagging_to_sample(sample):\n",
    "    return [tkn.pos_ for tkn in nlp(sample)]\n",
    "\n",
    "\n",
    "df[\"POS\"] = df[\"text\"].progress_apply(add_pos_tagging_to_sample)"
   ]
  },
  {
   "cell_type": "code",
   "execution_count": 22,
   "metadata": {},
   "outputs": [],
   "source": [
    "df.to_json(\"dataset_es_train_pos.json\", orient=\"records\")"
   ]
  },
  {
   "cell_type": "code",
   "execution_count": null,
   "metadata": {},
   "outputs": [],
   "source": []
  }
 ],
 "metadata": {
  "kernelspec": {
   "display_name": "pan-clef",
   "language": "python",
   "name": "python3"
  },
  "language_info": {
   "codemirror_mode": {
    "name": "ipython",
    "version": 3
   },
   "file_extension": ".py",
   "mimetype": "text/x-python",
   "name": "python",
   "nbconvert_exporter": "python",
   "pygments_lexer": "ipython3",
   "version": "3.11.9"
  }
 },
 "nbformat": 4,
 "nbformat_minor": 2
}
